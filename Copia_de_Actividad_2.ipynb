{
  "cells": [
    {
      "cell_type": "markdown",
      "metadata": {
        "id": "view-in-github",
        "colab_type": "text"
      },
      "source": [
        "<a href=\"https://colab.research.google.com/github/caalr11/TripleTen/blob/main/Copia_de_Actividad_2.ipynb\" target=\"_parent\"><img src=\"https://colab.research.google.com/assets/colab-badge.svg\" alt=\"Open In Colab\"/></a>"
      ]
    },
    {
      "cell_type": "markdown",
      "metadata": {
        "id": "dVoN8d7NO1_k"
      },
      "source": [
        "Los servicios online de la Administración empezaron a analizar el comportamiento y a tomar decisiones basadas en datos para mejorar la experiencia en línea.\n",
        "\n",
        "Tu primera tarea consiste en evaluar la calidad de una muestra de datos recogidos y prepararla para futuros análisis."
      ]
    },
    {
      "cell_type": "markdown",
      "metadata": {
        "id": "aDJTnkr7O1_l"
      },
      "source": [
        "# Cuestionario\n",
        "\n",
        "Vamos a evaluar la calidad de los datos recogidos sobre los ciudadanos. Te han pedido que revises los datos recopilados y propongas cambios. A continuación, verás datos sobre un usuario o una usuaria en particular; Revisaremos los datos e identificaremos cualquier posible problema."
      ]
    },
    {
      "cell_type": "code",
      "execution_count": 1,
      "metadata": {
        "id": "r9Y69J6yO1_m"
      },
      "outputs": [],
      "source": [
        "id_card_no = 3428563\n",
        "name_surname = 'Joseph_Kobe_Steeler '\n",
        "age = '74'\n",
        "subscriptions = ['TAXES', 'social security']"
      ]
    },
    {
      "cell_type": "markdown",
      "metadata": {
        "id": "FJJlGDXJO1_m"
      },
      "source": [
        "Examina las opciones que aparecen a continuación y selecciona las que reflejen los problemas que has detectado en los datos recogidos sobre el ciudadano anterior.\n",
        "\n",
        "**Opciones:**\n",
        "\n",
        "1. El tipo de datos de `id_card_no` no debe cambiarse de entero a string.\n",
        "    \n",
        "2. La variable `name_surname` contiene strings con espacios innecesarios y guiones bajos entre las partes del nombre.\n",
        "    \n",
        "3. El tipo de datos de `user_age` es incorrecto.\n",
        "    \n",
        "4. La lista `subscriptions` contiene strings en mayúsculas y minúsculas para las distintas entradas. No hay ningún problema en que las listas sean así."
      ]
    },
    {
      "cell_type": "markdown",
      "metadata": {
        "id": "NbL5ss3eO1_m"
      },
      "source": [
        "Escribe en la celda Markdown a continuación los números de las opciones que has identificado como problemas. Si se han encontrado varios problemas, sepáralos con comas."
      ]
    },
    {
      "cell_type": "markdown",
      "metadata": {
        "id": "KibqtnXPO1_m"
      },
      "source": [
        "**Escribe aquí tu respuesta y explica tus argumentos:**"
      ]
    },
    {
      "cell_type": "markdown",
      "metadata": {
        "id": "d4HYCpuvO1_r"
      },
      "source": [
        "# Ejercicio 1\n",
        "\n",
        "Empecemos a hacer cambios para los problemas que hemos identificado. Primero, necesitamos corregir los problemas de la variable `user_name`. Tenemos que eliminar los espacios y sustituir los guiones bajos por espacios."
      ]
    },
    {
      "cell_type": "code",
      "execution_count": 3,
      "metadata": {
        "id": "rynqalenO1_r",
        "outputId": "fc1f3117-61d9-4631-cfc4-0364ac194173",
        "colab": {
          "base_uri": "https://localhost:8080/"
        }
      },
      "outputs": [
        {
          "output_type": "stream",
          "name": "stdout",
          "text": [
            "Joseph Kobe Steeler\n"
          ]
        }
      ],
      "source": [
        "name_surname = 'Joseph_Kobe_Steeler '\n",
        "name_surname = name_surname.strip().replace('_',' ')\n",
        "#name_surname = # escribe tu código aquí\n",
        "\n",
        "print(name_surname)"
      ]
    },
    {
      "cell_type": "markdown",
      "metadata": {
        "id": "3eVDPnDVO1_s"
      },
      "source": [
        "# Ejercicio 2\n",
        "\n",
        "Vamos a dividir el nombre completo almacenado en la variable `name_surname` en substrings. Necesitamos obtener una lista que contenga los nombres por separado."
      ]
    },
    {
      "cell_type": "code",
      "execution_count": 4,
      "metadata": {
        "id": "CeCdgmI3O1_s",
        "outputId": "c06bddb0-bdce-430f-e146-c8c9144d315a",
        "colab": {
          "base_uri": "https://localhost:8080/"
        }
      },
      "outputs": [
        {
          "output_type": "stream",
          "name": "stdout",
          "text": [
            "['Joseph', 'Kobe', 'Steeler']\n"
          ]
        }
      ],
      "source": [
        "name_surname = 'Joseph Kobe Steeler'\n",
        "name_split = name_surname.split()\n",
        "\n",
        "print(name_split)"
      ]
    },
    {
      "cell_type": "markdown",
      "metadata": {
        "id": "WPKSBrtMO1_s"
      },
      "source": [
        "# Ejercicio 3\n",
        "\n",
        "Arreglemos la variable `age`, ya que tiene un tipo de datos incorrecto."
      ]
    },
    {
      "cell_type": "code",
      "execution_count": 6,
      "metadata": {
        "id": "tFChxdX-O1_s",
        "outputId": "f4cd0b49-5880-43ba-d44e-137f2df738a4",
        "colab": {
          "base_uri": "https://localhost:8080/"
        }
      },
      "outputs": [
        {
          "output_type": "stream",
          "name": "stdout",
          "text": [
            "<class 'str'>\n",
            "74\n",
            "<class 'int'>\n"
          ]
        }
      ],
      "source": [
        "age = '74'\n",
        "\n",
        "print(type(age))\n",
        "age = int(age)\n",
        "\n",
        "print(age)\n",
        "print(type(age))"
      ]
    },
    {
      "cell_type": "markdown",
      "metadata": {
        "id": "wXRT5ZAJO1_s"
      },
      "source": [
        "# Ejercicio 4\n",
        "\n",
        "¿Y qué pasaría si en lugar de la edad tuviéramos otra cosa que no fuera exactamente un número? No podríamos convertirlo a `int`. Si lo intentamos, nuestro sistema se bloquearía.\n",
        "\n",
        "Vamos a escribir un fragmento de código para evitar que el sistema se bloquee, en su lugar mostrará un mensaje de error amigable."
      ]
    },
    {
      "cell_type": "code",
      "execution_count": 7,
      "metadata": {
        "id": "WQFNr-jOO1_s",
        "outputId": "7e6f8a15-ddfc-415d-cbe0-7b3ccadb701b",
        "colab": {
          "base_uri": "https://localhost:8080/"
        }
      },
      "outputs": [
        {
          "output_type": "stream",
          "name": "stdout",
          "text": [
            "La edad debe ser un valor numérico.\n"
          ]
        }
      ],
      "source": [
        "age = 'seventy four'\n",
        "\n",
        "try:\n",
        "    age =int(age)\n",
        "except:\n",
        "    print('La edad debe ser un valor numérico.')"
      ]
    },
    {
      "cell_type": "markdown",
      "metadata": {
        "id": "hRX_U_HWO1_t"
      },
      "source": [
        "# Ejercicio 5\n",
        "\n",
        "El gobierno quiere enviar un correo electrónico con el siguiente texto al ciudadano, notificando el inicio de la devolución de impuestos: `Estimado Citizen_name, ha gastado más de 10.000 en el mes month_nº. Su devolución de impuestos se inicia el mes que viene, el month_nº+1.`"
      ]
    },
    {
      "cell_type": "code",
      "execution_count": 9,
      "metadata": {
        "id": "HJKhIol-O1_t",
        "outputId": "150a44bb-49f1-467f-d3a8-49614e483a93",
        "colab": {
          "base_uri": "https://localhost:8080/"
        }
      },
      "outputs": [
        {
          "output_type": "stream",
          "name": "stdout",
          "text": [
            "Estimado Joseph Kobe Steeler, ha gastado más de 10.000 en el mes 5. Su devolución de impuestos se inicia el mes que viene, el mes 6.\n"
          ]
        }
      ],
      "source": [
        "name_surname = 'Joseph Kobe Steeler'\n",
        "months = 5\n",
        "\n",
        "message =(f'Estimado {name_surname}, ha gastado más de 10.000 en el mes {months}. Su devolución de impuestos se inicia el mes que viene, el mes {months+1}.')\n",
        "print(message)"
      ]
    },
    {
      "cell_type": "markdown",
      "metadata": {
        "id": "hVjqeNJ2O1_t"
      },
      "source": [
        "# Ejercicio 6\n",
        "\n",
        "Ahora apliquemos todos los cambios a la lista de **citizens**. Te proporcionaremos una versión más corta para mayor simplicidad. Debes:\n",
        "\n",
        "- Eliminar todos los espacios en blanco al inicio y al final de los nombres, así como cualquier guion bajo.  \n",
        "- Convertir todas las edades a números enteros.  \n",
        "- Separar todos los nombres y apellidos en una sublista.  \n",
        "- Guardar la lista modificada en una nueva lista llamada **citizens_clean** y luego imprimirla."
      ]
    },
    {
      "cell_type": "code",
      "execution_count": 18,
      "metadata": {
        "id": "lpMxQ7SNO1_t",
        "outputId": "cd768715-d333-4d95-a4a5-59ad2dd722e8",
        "colab": {
          "base_uri": "https://localhost:8080/"
        }
      },
      "outputs": [
        {
          "output_type": "stream",
          "name": "stdout",
          "text": [
            "[[['Joseph', 'Kobe', 'Steeler'], 74], [['Rozalia', 'Luxemburg'], 47], [['Kevin', 'Jones'], 41]]\n"
          ]
        }
      ],
      "source": [
        "  citizens = [\n",
        "      [' Joseph Kobe_Steeler', \"74\"],\n",
        "      ['Rozalia_Luxemburg', \"47\"],\n",
        "      ['Kevin Jones ', \"41\"]\n",
        "      ]\n",
        "\n",
        "\n",
        "  citizens_clean = []\n",
        "\n",
        "\n",
        "  # Process the first user\n",
        "  user_name_1 = citizens[0][0].strip().replace('_',' ') # escribe tu código aquí\n",
        "  user_age_1 = int(citizens[0][1])# escribe tu código aquí\n",
        "  user_name_1 = user_name_1.split()# escribe tu código aquí\n",
        "  citizens_clean.append([user_name_1,user_age_1])# escribe tu código aquí\n",
        "\n",
        "  # Process the second user\n",
        "  user_name_2 =citizens[1][0].strip().replace('_',' ') # escribe tu código aquí\n",
        "  user_age_2 = int(citizens[1][1])# escribe tu código aquí\n",
        "  user_name_2 = user_name_2.split()# escribe tu código aquí\n",
        "  citizens_clean.append([user_name_2,user_age_2])# escribe tu código aquí\n",
        "\n",
        "  # Process the third user\n",
        "  user_name_3 =citizens[2][0].strip().replace('_',' ') # escribe tu código aquí\n",
        "  user_age_3 = int(citizens[2][1])# escribe tu código aquí\n",
        "  user_name_3 = user_name_3.split()# escribe tu código aquí\n",
        "  citizens_clean.append([user_name_3,user_age_3])# escribe tu código aquí\n",
        "\n",
        "\n",
        "\n",
        "  print(citizens_clean)"
      ]
    }
  ],
  "metadata": {
    "kernelspec": {
      "display_name": "Python 3 (ipykernel)",
      "language": "python",
      "name": "python3"
    },
    "language_info": {
      "codemirror_mode": {
        "name": "ipython",
        "version": 3
      },
      "file_extension": ".py",
      "mimetype": "text/x-python",
      "name": "python",
      "nbconvert_exporter": "python",
      "pygments_lexer": "ipython3",
      "version": "3.11.5"
    },
    "colab": {
      "provenance": [],
      "include_colab_link": true
    }
  },
  "nbformat": 4,
  "nbformat_minor": 0
}