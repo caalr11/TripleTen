{
  "nbformat": 4,
  "nbformat_minor": 0,
  "metadata": {
    "colab": {
      "provenance": [],
      "include_colab_link": true
    },
    "kernelspec": {
      "name": "python3",
      "display_name": "Python 3"
    },
    "language_info": {
      "name": "python"
    }
  },
  "cells": [
    {
      "cell_type": "markdown",
      "metadata": {
        "id": "view-in-github",
        "colab_type": "text"
      },
      "source": [
        "<a href=\"https://colab.research.google.com/github/caalr11/TripleTen/blob/main/Copia_de_Sprint_1_Student_version.ipynb\" target=\"_parent\"><img src=\"https://colab.research.google.com/assets/colab-badge.svg\" alt=\"Open In Colab\"/></a>"
      ]
    },
    {
      "cell_type": "markdown",
      "source": [],
      "metadata": {
        "id": "IFB-X64IatQh"
      }
    },
    {
      "cell_type": "markdown",
      "source": [
        "HOLA VAMOS A COMENZAR"
      ],
      "metadata": {
        "id": "cXSiAq-tatD9"
      }
    },
    {
      "cell_type": "markdown",
      "source": [
        "# Exercises for Live session 1"
      ],
      "metadata": {
        "id": "IRjKMCZ9PaTC"
      }
    },
    {
      "cell_type": "markdown",
      "source": [
        "Ejemplo 1: John tiene 25 años y su hermano 20. Asigna sus edades a las variables `john_age` y `brother_age`, calcula su diferencia de edad en una nueva variable (`diff_ages`), y luego muestra la siguiente frase \"John tiene `john_age` años. Su hermano tiene `brother_age` y la diferencia de edad entre ellos es `diff_ages`\""
      ],
      "metadata": {
        "id": "YZPf5rd6LCTN"
      }
    },
    {
      "cell_type": "code",
      "source": [
        "john_age  = 25\n",
        "brother_age = 20\n",
        "\n",
        "diff_ages= john_age-brother_age\n",
        "print(f'John tiene {john_age} años. Su hermano tiene {brother_age} y la diferencia de edad entre ellos es {diff_ages}')"
      ],
      "metadata": {
        "id": "Fs2zO-hOLzij",
        "colab": {
          "base_uri": "https://localhost:8080/"
        },
        "outputId": "55161e56-5dbc-46fa-e40a-12d8192d3af6"
      },
      "execution_count": null,
      "outputs": [
        {
          "output_type": "stream",
          "name": "stdout",
          "text": [
            "John tiene 25 años. Su hermano tiene 20 y la diferencia de edad entre ellos es 5\n"
          ]
        }
      ]
    },
    {
      "cell_type": "markdown",
      "source": [
        "##Ejemplo 2:\n",
        "\n",
        "Escribe y rellena las siguientes variables:\n",
        "\n",
        "`name` -> John\n",
        "\n",
        "`john_bitcoins` -> 2.45\n",
        "\n",
        "`btc_to_usd` -> 71000\n",
        "\n",
        "`has_driving_license` -> True\n",
        "\n",
        "Muestra todas las variables. A continuación, aplica la función type a cada una y comprueba el resultado. Después, calcula e imprime la cantidad de BTC que John tiene en dólares estadounidenses, utilizando el tipo de conversión indicado."
      ],
      "metadata": {
        "id": "iae-L_xhNkQs"
      }
    },
    {
      "cell_type": "code",
      "source": [
        "name='John'\n",
        "john_bitcoins=2.45\n",
        "btc_to_usd=71000\n",
        "has_driving_license=True\n",
        "\n",
        "print(name)\n",
        "print(john_bitcoins)\n",
        "print(btc_to_usd)\n",
        "print(has_driving_license)\n",
        "print(type(name))\n",
        "print(type(john_bitcoins))\n",
        "print(type(btc_to_usd))\n",
        "print(type(has_driving_license))\n",
        "\n",
        "total_amount_of_money_in_bitcoins= john_bitcoins*btc_to_usd\n",
        "print(total_amount_of_money_in_bitcoins)"
      ],
      "metadata": {
        "id": "OM0AZC1hOqWF",
        "colab": {
          "base_uri": "https://localhost:8080/"
        },
        "outputId": "b4617d07-8be7-454d-877b-6ba083ff3ad4"
      },
      "execution_count": null,
      "outputs": [
        {
          "output_type": "stream",
          "name": "stdout",
          "text": [
            "John\n",
            "2.45\n",
            "71000\n",
            "True\n",
            "<class 'str'>\n",
            "<class 'float'>\n",
            "<class 'int'>\n",
            "<class 'bool'>\n",
            "173950.0\n"
          ]
        }
      ]
    },
    {
      "cell_type": "markdown",
      "source": [
        "##Ejemplo 3.\n",
        "\n",
        "John compró más de 1.3 bitcoins. Ejecuta el siguiente código y observa el error.\n",
        "\n",
        "Ahora escribe el código entre las dos líneas de código existentes para convertir la variable a float, e imprimir la variable y su tipo. ¿Qué pasó?\n",
        "\n",
        "Ahora convierte los bitcoins de John a int e imprime la variable y su tipo. ¿Qué pasó? ¿Ha perdido bitcoins?"
      ],
      "metadata": {
        "id": "YlrOpwxDP3nJ"
      }
    },
    {
      "cell_type": "code",
      "source": [
        "john_bitcoins = '2.45'\n",
        "john_bitcoins=float(john_bitcoins)\n",
        "john_bitcoins = john_bitcoins + 1.3\n",
        "print(john_bitcoins)"
      ],
      "metadata": {
        "id": "B6-FOR0hTlb_",
        "colab": {
          "base_uri": "https://localhost:8080/"
        },
        "outputId": "52e13575-5f45-48f6-ad9f-7cbd3c768b0c"
      },
      "execution_count": null,
      "outputs": [
        {
          "output_type": "stream",
          "name": "stdout",
          "text": [
            "3.75\n"
          ]
        }
      ]
    },
    {
      "cell_type": "code",
      "source": [
        "#continua aqui\n",
        "john_bitcoins=int(john_bitcoins)\n",
        "print(john_bitcoins)"
      ],
      "metadata": {
        "id": "6YpXkZUFPlpP",
        "colab": {
          "base_uri": "https://localhost:8080/"
        },
        "outputId": "0b053aeb-e12c-48c9-c8c3-4e8b767acc13"
      },
      "execution_count": null,
      "outputs": [
        {
          "output_type": "stream",
          "name": "stdout",
          "text": [
            "3\n"
          ]
        }
      ]
    },
    {
      "cell_type": "markdown",
      "source": [
        "Ejemplo 4. John quiere enviar el 10% de su bitcoin a su amigo Max.\n",
        "Sin embargo, seleccionó una cartera que, por alguna razón, no es considerada válida, lo que hace que el programa genere un error.\n",
        "1. Ejecuta el código y observa el error. ¿Por qué recibimos este error?\n",
        "2. Añade código para que el error quede más claro al mostrar el mensaje \"Tu cartera no es válida. Por favor, inténtalo de nuevo.\", utilizando try except.\n",
        "3. Ahora corrige el código para que no produzca más errores. ¿A qué tipo de datos debemos convertir la cartera?\n",
        "4. Utiliza la función apropiada para convertirla y luego muestra la cantidad de btc enviada a su amigo Max de la siguiente manera: \"Has enviado `btc_to_send` bitcoins con éxito\"."
      ],
      "metadata": {
        "id": "Lg1ylTgyV7aS"
      }
    },
    {
      "cell_type": "code",
      "source": [
        "try:\n",
        "  btc_wallet_1 = 3.75\n",
        "  btc_wallet_2 = '1.2'\n",
        "  btc_wallet_2=float(btc_wallet_2)\n",
        "  btc_to_send = btc_wallet_2 * 0.1\n",
        "  print(f'Has enviado {btc_to_send} bitcoins con exito.')\n",
        "except:\n",
        "  print('Tu cartera no es valida. Por favor, intentalo de nuevo.')"
      ],
      "metadata": {
        "id": "UdhIg8vjYp9P",
        "colab": {
          "base_uri": "https://localhost:8080/"
        },
        "outputId": "8a0af6d8-c1e6-4e15-8c96-2a36995d11d7"
      },
      "execution_count": null,
      "outputs": [
        {
          "output_type": "stream",
          "name": "stdout",
          "text": [
            "Has enviado 0.12 bitcoins con exito.\n"
          ]
        }
      ]
    },
    {
      "cell_type": "markdown",
      "source": [
        "##Ejemplo 5.\n",
        "\n",
        "John intentó enviar un mensaje de no más de 50 caracteres a su amigo Max para decirle que le había enviado bitcoins. Pero se equivocó al escribir el mensaje y el programa arrojó un error.\n",
        "1. ¿Por qué el programa ha dado este error?\n",
        "2. Corrige el error utilizando caracteres de escape.\n",
        "3. ¿Se ajusta el mensaje a la longitud de los caracteres? Descubre la función adecuada para imprimir la longitud del mensaje."
      ],
      "metadata": {
        "id": "3nH697wZvWHg"
      }
    },
    {
      "cell_type": "code",
      "source": [
        "message = 'Hey pal. I\\'ve sent you some bitcoins Check your wallet!'\n",
        "len(message)\n",
        "print(message)"
      ],
      "metadata": {
        "id": "XUzNU1tWvVI8",
        "colab": {
          "base_uri": "https://localhost:8080/"
        },
        "outputId": "90f2f705-bc27-4444-bc49-d000c11cadb9"
      },
      "execution_count": null,
      "outputs": [
        {
          "output_type": "stream",
          "name": "stdout",
          "text": [
            "Hey pal. I've sent you some bitcoins Check your wallet!\n"
          ]
        }
      ]
    },
    {
      "cell_type": "markdown",
      "source": [
        "##Ejemplo 6.\n",
        "\n",
        "Max envió un mensaje a John, pero el mensaje venía con # entre las palabras y espacios tanto al principio como al final del mensaje y con letras en mayúsculas y minúsculas. Ayudemos a John a entender el mensaje eliminando los espacios iniciales y finales, cambiando el # por espacios y poniendo todo el mensaje en mayúsculas."
      ],
      "metadata": {
        "id": "TN9O4rhSfJO7"
      }
    },
    {
      "cell_type": "code",
      "source": [
        "message = \"  hEY#bRO,#I#nEed#YouR#hElP#bUYiNg#bTc#tONigHt!     \"\n",
        "message=message.strip()\n",
        "message=message.upper()\n",
        "message=message.replace('#',' ')\n",
        "print(message)\n"
      ],
      "metadata": {
        "id": "UmZ7t21ffJpT",
        "colab": {
          "base_uri": "https://localhost:8080/"
        },
        "outputId": "13610ff0-059f-4ffc-e145-3b9126b5772c"
      },
      "execution_count": null,
      "outputs": [
        {
          "output_type": "stream",
          "name": "stdout",
          "text": [
            "HEY BRO, I NEED YOUR HELP BUYING BTC TONIGHT!\n"
          ]
        }
      ]
    },
    {
      "cell_type": "markdown",
      "source": [
        "##Ejemplo 7.\n",
        "\n",
        "Max quiere saber más sobre bitcoin y me pidió una lista de libros para leer. John le envió el libro blanco de bitcoin (\"the bitcoin whitepaper\") y le dijo que le enviaría más libros más tarde. John ha enviado la información sobre un libro que Max puede leer, pero ahora esta información está repartida en múltiples variables. Max quiere mantenerla unida en forma de lista, para poder incluir después otros libros en ella.\n",
        "A partir de las variables indicadas, haz lo siguiente:\n",
        "1. Crea e imprime una lista que almacene información sobre el libro, empezando por el título y terminando por el género.\n",
        "2. Imprime un slice que solo contenga el nombre del país, el año y el género.\n",
        "3. Imprime un slice que contenga el nombre, el país y el año."
      ],
      "metadata": {
        "id": "9oJdaZ3R1Xzm"
      }
    },
    {
      "cell_type": "code",
      "source": [
        "title = 'Bitcoin: A Peer-to-Peer Electronic Cash System'\n",
        "country = 'USA'\n",
        "year = 2008\n",
        "genre = ['cryptocurrency', 'technology']\n",
        "books=[title,country,year,genre]\n",
        "print(books)\n",
        "print(books[1:])\n",
        "print(books[0:-1])\n"
      ],
      "metadata": {
        "id": "nEb0-Y831YVm",
        "colab": {
          "base_uri": "https://localhost:8080/"
        },
        "outputId": "aa3846fa-64b3-4078-fcdb-789e7f63a9c7"
      },
      "execution_count": null,
      "outputs": [
        {
          "output_type": "stream",
          "name": "stdout",
          "text": [
            "['Bitcoin: A Peer-to-Peer Electronic Cash System', 'USA', 2008, ['cryptocurrency', 'technology']]\n",
            "['USA', 2008, ['cryptocurrency', 'technology']]\n",
            "['Bitcoin: A Peer-to-Peer Electronic Cash System', 'USA', 2008]\n"
          ]
        }
      ]
    },
    {
      "cell_type": "markdown",
      "source": [
        "##Ejemplo 8.\n",
        "\n",
        "Ese mismo día, John envió a Max una lista de buenos libros sobre bitcoin. Es un buen amigo, así que la envió en forma de lista de Python e incluso añadió los autores al final de esta lista. Pero hay un libro con más de un autor, y Max quiere dividir los autores y almacenarlos por separado en forma de lista. Busca el libro con más de 1 autor, extráelo utilizando la indexación, divide los nombres de los autores en una lista e imprime el resultado."
      ],
      "metadata": {
        "id": "QXdLGX9U5Q9c"
      }
    },
    {
      "cell_type": "code",
      "source": [
        "bitcoin_info = [\n",
        "    ['Mastering Bitcoin: Unlocking Digital Cryptocurrencies', 'USA', 2014, ['cryptocurrency', 'technology'], 'Andreas M. Antonopoulos'],\n",
        "    ['The Age of Cryptocurrency: How Bitcoin and Digital Money Are Challenging the Global Economic Order', 'USA', 2015, ['cryptocurrency', 'economics'], 'Paul Vigna, Michael J. Casey'],\n",
        "    ['Digital Gold: Bitcoin and the Inside Story of the Misfits and Millionaires Trying to Reinvent Money', 'USA', 2015, ['cryptocurrency', 'finance'], 'Nathaniel Popper'],\n",
        "    ['The Bitcoin Standard: The Decentralized Alternative to Central Banking', 'USA', 2018, ['cryptocurrency', 'economics'], 'Saifedean Ammous'],\n",
        "    ['Bitcoin Billionaires: A True Story of Genius, Betrayal, and Redemption', 'USA', 2019, ['cryptocurrency', 'biography'], 'Ben Mezrich']\n",
        "]\n",
        "#print(bitcoin_info)\n",
        "authors_from_book=bitcoin_info[1][-1]\n",
        "authors_from_book=authors_from_book.split(',')\n",
        "authors_from_book=list(authors_from_book)\n",
        "\n",
        "bitcoin_info[1][-1]=authors_from_book\n",
        "print(bitcoin_info)"
      ],
      "metadata": {
        "id": "_UUbuF-H5RR0",
        "colab": {
          "base_uri": "https://localhost:8080/"
        },
        "outputId": "586d963b-2d1b-4a8d-87c4-4c955e826725"
      },
      "execution_count": null,
      "outputs": [
        {
          "output_type": "stream",
          "name": "stdout",
          "text": [
            "[['Mastering Bitcoin: Unlocking Digital Cryptocurrencies', 'USA', 2014, ['cryptocurrency', 'technology'], 'Andreas M. Antonopoulos'], ['The Age of Cryptocurrency: How Bitcoin and Digital Money Are Challenging the Global Economic Order', 'USA', 2015, ['cryptocurrency', 'economics'], ['Paul Vigna', ' Michael J. Casey']], ['Digital Gold: Bitcoin and the Inside Story of the Misfits and Millionaires Trying to Reinvent Money', 'USA', 2015, ['cryptocurrency', 'finance'], 'Nathaniel Popper'], ['The Bitcoin Standard: The Decentralized Alternative to Central Banking', 'USA', 2018, ['cryptocurrency', 'economics'], 'Saifedean Ammous'], ['Bitcoin Billionaires: A True Story of Genius, Betrayal, and Redemption', 'USA', 2019, ['cryptocurrency', 'biography'], 'Ben Mezrich']]\n"
          ]
        }
      ]
    },
    {
      "cell_type": "markdown",
      "source": [
        "##Ejemplo 9.\n",
        "\n",
        "Ahora, Max quiere añadir el libro blanco de bitcoin que John le envió antes a la lista que recibió después. Pero se dio cuenta de que John no había mencionado al autor.\n",
        "Añade el autor, Satoshi Nakamoto, a la primera lista que Max había creado usando el método extend, imprímela, y luego añade esa lista a la lista de libros usando el método append, y también imprime el resultado."
      ],
      "metadata": {
        "id": "jScn1vjt6yno"
      }
    },
    {
      "cell_type": "code",
      "source": [
        "bitcoin_info = [\n",
        "    ['Mastering Bitcoin: Unlocking Digital Cryptocurrencies', 'USA', 2014, ['cryptocurrency', 'technology'], 'Andreas M. Antonopoulos'],\n",
        "    ['The Age of Cryptocurrency: How Bitcoin and Digital Money Are Challenging the Global Economic Order', 'USA', 2015, ['cryptocurrency', 'economics'], 'Paul Vigna, Michael J. Casey'],\n",
        "    ['Digital Gold: Bitcoin and the Inside Story of the Misfits and Millionaires Trying to Reinvent Money', 'USA', 2015, ['cryptocurrency', 'finance'], 'Nathaniel Popper'],\n",
        "    ['The Bitcoin Standard: The Decentralized Alternative to Central Banking', 'USA', 2018, ['cryptocurrency', 'economics'], 'Saifedean Ammous'],\n",
        "    ['Bitcoin Billionaires: A True Story of Genius, Betrayal, and Redemption', 'USA', 2019, ['cryptocurrency', 'biography'], 'Ben Mezrich']\n",
        "]\n",
        "\n",
        "book_info = ['Bitcoin: A Peer-to-Peer Electronic Cash System', 'USA', 2008, ['cryptocurrency', 'technology']]\n",
        "book_info.extend(['Satoshi Nakamoto'])\n",
        "print(book_info)\n",
        "bitcoin_info.append(book_info)\n",
        "print(bitcoin_info)\n",
        "\n",
        "\n"
      ],
      "metadata": {
        "id": "BAv72ZCs6y-Y",
        "colab": {
          "base_uri": "https://localhost:8080/"
        },
        "outputId": "d3c745cc-89e0-4d89-9ffd-56bd1cf1f266"
      },
      "execution_count": null,
      "outputs": [
        {
          "output_type": "stream",
          "name": "stdout",
          "text": [
            "['Bitcoin: A Peer-to-Peer Electronic Cash System', 'USA', 2008, ['cryptocurrency', 'technology'], 'Satoshi Nakamoto']\n",
            "[['Mastering Bitcoin: Unlocking Digital Cryptocurrencies', 'USA', 2014, ['cryptocurrency', 'technology'], 'Andreas M. Antonopoulos'], ['The Age of Cryptocurrency: How Bitcoin and Digital Money Are Challenging the Global Economic Order', 'USA', 2015, ['cryptocurrency', 'economics'], 'Paul Vigna, Michael J. Casey'], ['Digital Gold: Bitcoin and the Inside Story of the Misfits and Millionaires Trying to Reinvent Money', 'USA', 2015, ['cryptocurrency', 'finance'], 'Nathaniel Popper'], ['The Bitcoin Standard: The Decentralized Alternative to Central Banking', 'USA', 2018, ['cryptocurrency', 'economics'], 'Saifedean Ammous'], ['Bitcoin Billionaires: A True Story of Genius, Betrayal, and Redemption', 'USA', 2019, ['cryptocurrency', 'biography'], 'Ben Mezrich'], ['Bitcoin: A Peer-to-Peer Electronic Cash System', 'USA', 2008, ['cryptocurrency', 'technology'], 'Satoshi Nakamoto']]\n"
          ]
        }
      ]
    }
  ]
}